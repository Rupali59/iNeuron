{
 "cells": [
  {
   "cell_type": "markdown",
   "metadata": {},
   "source": [
    "Q1. Write a Python program to get the string from the given string where\n",
    "all the occurrence of its first char has been changed to '$,' except first\n",
    "char itself?\n",
    "\n",
    "    Sample String: 'prospect'\n",
    "    Expected Result : 'pros$ect'\n"
   ]
  },
  {
   "cell_type": "code",
   "execution_count": 3,
   "metadata": {},
   "outputs": [
    {
     "name": "stdout",
     "output_type": "stream",
     "text": [
      "prospect\n",
      "pros$ect\n"
     ]
    }
   ],
   "source": [
    "string = input()\n",
    "first_letter = string[0]\n",
    "print(string[0]+string[1:].replace(first_letter, '$'))"
   ]
  },
  {
   "cell_type": "markdown",
   "metadata": {},
   "source": [
    "Q2. Write a Python program to get the single string from the two given\n",
    "strings, and separated by the space and swap the first two characters of\n",
    "each string?\n",
    "\n",
    "    Sample String : 'abc', 'xyz'.\n",
    "    Expected Result: 'xyc abz'"
   ]
  },
  {
   "cell_type": "code",
   "execution_count": 12,
   "metadata": {},
   "outputs": [
    {
     "name": "stdout",
     "output_type": "stream",
     "text": [
      "abc, xyz.\n",
      "xyc abz\n"
     ]
    }
   ],
   "source": [
    "string1, string2 = input().strip(\".\").split(\", \",1)\n",
    "temp = string1[:2]\n",
    "string1 = string2[:2]+string1[2:]\n",
    "string2 = temp+string2[2:]\n",
    "print(string1+\" \"+string2)\n"
   ]
  },
  {
   "cell_type": "markdown",
   "metadata": {},
   "source": [
    "Q3. Write the Python program to add 'ing' at the end of the given string\n",
    "(length of the string should be at least 3). If given string already ends\n",
    "with 'ing,' then add 'ly' instead. If string length of the given string is less\n",
    "than 3, leave it unchanged?\n",
    "\n",
    "\n",
    "    Sample string: ' abc '\n",
    "    Expected result: ' abcing '\n",
    "    Sample string: ' string '\n",
    "    Expected result: ' stringly '\n"
   ]
  },
  {
   "cell_type": "code",
   "execution_count": 15,
   "metadata": {},
   "outputs": [
    {
     "name": "stdout",
     "output_type": "stream",
     "text": [
      "string\n",
      "stringly\n"
     ]
    }
   ],
   "source": [
    "string = input()\n",
    "if(len(string)<3):\n",
    "    print(string)\n",
    "elif(string.endswith('ing')):\n",
    "    print(string+'ly')\n",
    "else:\n",
    "    print(string+'ing')"
   ]
  },
  {
   "cell_type": "markdown",
   "metadata": {},
   "source": [
    "Q4. Write the Python program to find the first appearance of the\n",
    "substring 'not' and 'poor' from the given string, if 'not' follows the 'poor',\n",
    "replace the whole 'not'...' poor' substring with 'good'.Return the resulting\n",
    "string.\n",
    "\n",
    "    Sample string: 'The lyrics are not that poor!'\n",
    "    'The lyrics are poor!'\n",
    "    Expected Result: 'The lyrics are good!'\n",
    "    'The lyrics are poor!'"
   ]
  },
  {
   "cell_type": "code",
   "execution_count": null,
   "metadata": {},
   "outputs": [],
   "source": [
    "import re;\n",
    "string = input()\n",
    "\n",
    "p = re.match(r\"(.*)(?=not)(.*)(?<=poor)\",string)\n",
    "while p.group(2) in string:\n",
    "    string.replace(p.group(2), \"group\")\n",
    "    p = re.match(r\"(.*)(?=not)(.*)(?<=poor)\",string)\n",
    "print(string)"
   ]
  },
  {
   "cell_type": "markdown",
   "metadata": {},
   "source": [
    "Q5. Write the Python program to remove the characters which have odd\n",
    "index values of a given string."
   ]
  },
  {
   "cell_type": "code",
   "execution_count": 83,
   "metadata": {},
   "outputs": [
    {
     "name": "stdout",
     "output_type": "stream",
     "text": [
      "powerless\n",
      "pwres\n"
     ]
    }
   ],
   "source": [
    "string=[char for char in input()]\n",
    "b = [elem for i,elem in enumerate(string) if i%2==0]\n",
    "print(''.join([str(elem) for elem in b]) )"
   ]
  },
  {
   "cell_type": "markdown",
   "metadata": {},
   "source": [
    "Q6. Write the python program to print the following floating numbers up\n",
    "to 2 decimal places?"
   ]
  },
  {
   "cell_type": "code",
   "execution_count": 87,
   "metadata": {},
   "outputs": [
    {
     "name": "stdout",
     "output_type": "stream",
     "text": [
      "232\n",
      "232.00\n"
     ]
    }
   ],
   "source": [
    "print(\"%.2f\" % float(input()))"
   ]
  },
  {
   "cell_type": "markdown",
   "metadata": {},
   "source": [
    "Q7. Write the Python program to format a number with a percentage?"
   ]
  },
  {
   "cell_type": "code",
   "execution_count": 95,
   "metadata": {},
   "outputs": [
    {
     "name": "stdout",
     "output_type": "stream",
     "text": [
      "343.4534353453434536\n",
      "34345.34353%\n"
     ]
    }
   ],
   "source": [
    "print(f\"{float(input()):.5%}\")"
   ]
  },
  {
   "cell_type": "markdown",
   "metadata": {},
   "source": [
    "Q8. Write the Python program to count occurrences of a substring in a\n",
    "String?"
   ]
  },
  {
   "cell_type": "code",
   "execution_count": 97,
   "metadata": {},
   "outputs": [
    {
     "name": "stdout",
     "output_type": "stream",
     "text": [
      "3\n"
     ]
    }
   ],
   "source": [
    "import re\n",
    "test_string = input()\n",
    "test_substring = input()\n",
    "print(len([i.start() for i in re.finditer(test_substring, test_string)]))"
   ]
  },
  {
   "cell_type": "markdown",
   "metadata": {},
   "source": [
    "Q9. Write the Python program to count repeated characters in a string.\n",
    "\n",
    "    Sample string: ' thequickbrownjumpsoverthelazydog '\n",
    "    \n",
    "    Expected output:\n",
    "    o 3\n",
    "    e 3\n",
    "    u 2\n",
    "    h 2\n",
    "    r 2\n",
    "    t 2"
   ]
  },
  {
   "cell_type": "code",
   "execution_count": 107,
   "metadata": {},
   "outputs": [
    {
     "name": "stdout",
     "output_type": "stream",
     "text": [
      "e 3\n",
      "o 3\n",
      "t 2\n",
      "h 2\n",
      "u 2\n",
      "r 2\n"
     ]
    }
   ],
   "source": [
    "string = input().strip()\n",
    "count = {}\n",
    "for s in string:\n",
    "    if s in count:\n",
    "        count[s] += 1\n",
    "    else:\n",
    "        count[s] = 1\n",
    "\n",
    "\n",
    "for num in sorted(count, key=count.get, reverse=True):\n",
    "    if count[num] > 1:\n",
    "        print(num, count[num])"
   ]
  },
  {
   "cell_type": "markdown",
   "metadata": {},
   "source": [
    "Q10. Write the Python program to print the square and cube symbol in\n",
    "the area of a rectangle and volume of a cylinder?\n",
    "\n",
    "    Sample outputThe area of the rectangle is 1256.66cm2\n",
    "    The volume of the cylinder is 1254.725cm3\n"
   ]
  },
  {
   "cell_type": "code",
   "execution_count": 109,
   "metadata": {},
   "outputs": [
    {
     "name": "stdout",
     "output_type": "stream",
     "text": [
      "The area of the rectangle is 1256.66cm²\n",
      "The volume of the cylinder is 1254.72cm³\n"
     ]
    }
   ],
   "source": [
    "area = float(input())\n",
    "volume = float(input())\n",
    "print(\"The area of the rectangle is {0:.2f}cm\\u00b2\".format(area))\n",
    "print(\"The volume of the cylinder is {0:.2f}cm\\u00b3\".format(volume))"
   ]
  },
  {
   "cell_type": "markdown",
   "metadata": {},
   "source": [
    "Q11. Write the Python program to check if a string contains all letters of\n",
    "the alphabet?"
   ]
  },
  {
   "cell_type": "code",
   "execution_count": null,
   "metadata": {},
   "outputs": [],
   "source": [
    "import string\n",
    "\n",
    "alphabet = set(string.ascii_lowercase)\n",
    "input_string = input().strip();\n",
    "print(set(input_string.lower()) >= alphabet)"
   ]
  },
  {
   "cell_type": "markdown",
   "metadata": {},
   "source": [
    "Q12. Write the Python program to find the second most repeated word\n",
    "in a given string?"
   ]
  },
  {
   "cell_type": "code",
   "execution_count": 5,
   "metadata": {},
   "outputs": [
    {
     "name": "stdout",
     "output_type": "stream",
     "text": [
      "is thr run most run most\n",
      "most\n"
     ]
    }
   ],
   "source": [
    "from collections import Counter \n",
    "dict = Counter(input().strip().split(\" \"))\n",
    "values = sorted(((v,k) for k,v in dict.items()))\n",
    "print(values[-2][1])"
   ]
  },
  {
   "cell_type": "markdown",
   "metadata": {},
   "source": [
    "Q13. Write the Python program to find the minimum window in the given\n",
    "string, which will contains all the characters of another given\n",
    "strings?\n",
    "\n",
    "    Example 1\n",
    "    Input : string1 = \" PRWSOERIUSFK \"\n",
    "    string2 = \" OSU \"\n",
    "    Output: Minimum window is \"OERIUS\""
   ]
  },
  {
   "cell_type": "code",
   "execution_count": 163,
   "metadata": {},
   "outputs": [
    {
     "name": "stdout",
     "output_type": "stream",
     "text": [
      "Input : string1 = PRWSOERIUSFK\n",
      "string2 = OSU\n",
      "Minimum window is SOERIU\n"
     ]
    }
   ],
   "source": [
    "string1= input(\"Input : string1 = \").strip()\n",
    "string2= input(\"string2 = \").strip()\n",
    "output = \"None\"\n",
    "\n",
    "if len(string2)<=len(string1):\n",
    "    no_of_chars = 256\n",
    "    string1_hash = [0] * no_of_chars\n",
    "    string2_hash = [0] * no_of_chars \n",
    "     \n",
    "#   Create a hash for string2\n",
    "    for i in range(0, len(string2)):  \n",
    "        string2_hash[ord(string2[i])] += 1\n",
    "        \n",
    "    count = 0 \n",
    "    start, start_idx, min_len = 0, -1, float('inf')\n",
    "    \n",
    "    for j in range(0, len(string1)):\n",
    "        j_index = ord(string1[j])\n",
    "        string1_hash[j_index] += 1\n",
    "        \n",
    "        if (string2_hash[j_index] != 0 and string1_hash[j_index] <= string2_hash[j_index]):  \n",
    "            count += 1\n",
    "            \n",
    "        if(count == len(string2)):\n",
    "            start_index = ord(string1[start])\n",
    "            while (string1_hash[start_index] >  string2_hash[start_index] or string2_hash[start_index] == 0):\n",
    "                if (string1_hash[start_index] >  string2_hash[start_index]):  \n",
    "                    string1_hash[start_index] -= 1\n",
    "                start += 1\n",
    "                start_index = ord(string1[start])\n",
    "            \n",
    "            len_window = j - start + 1\n",
    "            if min_len > len_window:                \n",
    "                min_len = len_window  \n",
    "                start_idx = start\n",
    "        \n",
    "    if start_idx != -1:\n",
    "        output = string1[start_idx : start_idx + min_len]\n",
    "print('Minimum window is', output)"
   ]
  },
  {
   "cell_type": "markdown",
   "metadata": {},
   "source": [
    "Q14. Write the Python program to count number of substrings from a\n",
    "given string of lowercase alphabets with exactly k distinct (given)\n",
    "characters?\n",
    "\n",
    "    Input a string (lowercase alphabets): wolf\n",
    "    Input k: 4\n",
    "    Number of substrings with exactly 4 distinct characters: 1"
   ]
  },
  {
   "cell_type": "code",
   "execution_count": 40,
   "metadata": {},
   "outputs": [
    {
     "name": "stdout",
     "output_type": "stream",
     "text": [
      "Input a string (lowercase alphabets):wolf\n",
      "Input k: 4\n",
      "Number of substrings with exactly 4 distinct characters: 1\n"
     ]
    }
   ],
   "source": [
    "string = input(\"Input a string (lowercase alphabets):\").strip()\n",
    "k = int(input(\"Input k: \").strip())\n",
    "n = len(string)\n",
    "result = 0\n",
    "count_char = [0] * 27\n",
    "\n",
    "for i in range(0, n):\n",
    "    dist_count = 0\n",
    "    count_char = [0] * 27\n",
    "    for j in range(i, n):\n",
    "        if(count_char[ord(string[j]) - 97] == 0):\n",
    "            dist_count += 1\n",
    "        count_char[ord(string[j]) -97] += 1\n",
    "        if(dist_count == k):\n",
    "            result += 1\n",
    "        if (dist_count > k):\n",
    "            break\n",
    "\n",
    "print(\"Number of substrings with exactly \"+str(k)+\" distinct characters: \"+str(result))"
   ]
  },
  {
   "cell_type": "markdown",
   "metadata": {},
   "source": [
    "Q15. Write the Python program to count number of substrings with same\n",
    "first and last characters of the given string?\n",
    "\n",
    "    Input a string: abcd\n",
    "    4\n"
   ]
  },
  {
   "cell_type": "code",
   "execution_count": 37,
   "metadata": {},
   "outputs": [
    {
     "name": "stdout",
     "output_type": "stream",
     "text": [
      "Input a string: abcd\n",
      "4\n"
     ]
    }
   ],
   "source": [
    "string = input(\"Input a string: \").strip()\n",
    "MAX_CHAR = 26\n",
    "result = 0\n",
    "n = len(string)\n",
    "\n",
    "count = [0] * MAX_CHAR\n",
    "for i in range(n):\n",
    "    count[ord(string[i]) - ord('a')] += 1\n",
    "\n",
    "for i in range(MAX_CHAR):\n",
    "    result += int((count[i] * (count[i] + 1) / 2))\n",
    "\n",
    "print(result)"
    "def checkEquality(s): \n",
    "    return (ord(s[0]) == ord(s[len(s) - 1])); \n",
    "\n",
    "\n",
    "def getPermutationsCount(string): \n",
    "    result = 0; \n",
    "    n = len(string); \n",
    "  \n",
    "    for i in range(n): \n",
    "        for j in range(1,n-i+1): \n",
    "            if (checkEquality(string[i:i+j])): \n",
    "                result+=1; \n",
    "  \n",
    "    return result; \n",
    "\n",
    "string = input(\"Input a string: \").strip()\n",
    "count= getPermutationsCount(string)\n",
    "print(count)\n",
    "\n"
   ]
  },
  {
   "cell_type": "markdown",
   "metadata": {},
   "source": [
    "## Great Job!"
   ]
  }
 ],
 "metadata": {
  "kernelspec": {
   "display_name": "Python 3",
   "language": "python",
   "name": "python3"
  },
  "language_info": {
   "codemirror_mode": {
    "name": "ipython",
    "version": 3
   },
   "file_extension": ".py",
   "mimetype": "text/x-python",
   "name": "python",
   "nbconvert_exporter": "python",
   "pygments_lexer": "ipython3",
   "version": "3.7.4"
  }
 },
 "nbformat": 4,
 "nbformat_minor": 2
}

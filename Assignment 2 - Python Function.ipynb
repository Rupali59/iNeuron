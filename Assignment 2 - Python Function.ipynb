{
 "cells": [
  {
   "cell_type": "markdown",
   "metadata": {},
   "source": [
    "## Problem Statement"
   ]
  },
  {
   "cell_type": "markdown",
   "metadata": {},
   "source": [
    "Q.1 Write a Python Program to implement your own myreduce() function which works exactly like\n",
    "Python's built-in function reduce()\n"
   ]
  },
  {
   "cell_type": "code",
   "execution_count": 5,
   "metadata": {},
   "outputs": [
    {
     "name": "stdout",
     "output_type": "stream",
     "text": [
      "6\n"
     ]
    }
   ],
   "source": [
    "def myreduce(function, inputs):\n",
    "    first = inputs[0]\n",
    "    for i in inputs[1:]:\n",
    "        first = function(first, i)\n",
    "    return first\n",
    "\n",
    "def sum(x1, x2):\n",
    "    return x1+x2\n",
    "\n",
    "print(myreduce(sum, [1,2,3]))    "
   ]
  },
  {
   "cell_type": "markdown",
   "metadata": {},
   "source": [
    "Q.2 Write a Python program to implement your own myfilter() function which works exactly like\n",
    "Python's built-in function filter()"
   ]
  },
  {
   "cell_type": "code",
   "execution_count": 8,
   "metadata": {},
   "outputs": [
    {
     "name": "stdout",
     "output_type": "stream",
     "text": [
      "[2, 4, 6]\n"
     ]
    }
   ],
   "source": [
    "def myfilter(function, inputs):\n",
    "    if function is None:\n",
    "        return [item for item in inputs if item]\n",
    "    else:\n",
    "        return [item for item in inputs if function(item)]\n",
    "        \n",
    "def even(x1):\n",
    "    return x1%2==0\n",
    "\n",
    "print(myfilter(even,[1,2,3,4,5,6,7]))"
   ]
  },
  {
   "cell_type": "markdown",
   "metadata": {},
   "source": [
    "Q.3 Implement List comprehensions to produce the following lists.\n",
    "   Write List comprehensions to produce the following Lists\n",
    "   \n",
    "    ['A', 'C', 'A', 'D', 'G', 'I', ’L’, ‘ D’]\n",
    "   \n",
    "    ['x', 'xx', 'xxx', 'xxxx', 'y', 'yy', 'yyy', 'yyyy', 'z', 'zz', 'zzz', 'zzzz']\n",
    "\n",
    "    ['x', 'y', 'z', 'xx', 'yy', 'zz', 'xx', 'yy', 'zz', 'xxxx', 'yyyy', 'zzzz']\n",
    "    \n",
    "    [[2], [3], [4], [3], [4], [5], [4], [5], [6]]\n",
    "\n",
    "    [[2, 3, 4, 5], [3, 4, 5, 6], [4, 5, 6, 7], [5, 6, 7, 8]]\n",
    "\n",
    "    [(1, 1), (2, 1), (3, 1), (1, 2), (2, 2), (3, 2), (1, 3), (2, 3), (3, 3)]"
   ]
  },
  {
   "cell_type": "code",
   "execution_count": 42,
   "metadata": {},
   "outputs": [
    {
     "name": "stdout",
     "output_type": "stream",
     "text": [
      "['A', 'C', 'A', 'D', 'G', 'I', 'L', 'D']\n",
      "['x', 'xx', 'xxx', 'xxxx', 'y', 'yy', 'yyy', 'yyyy', 'z', 'zz', 'zzz', 'zzzz']\n",
      "['x', 'y', 'z', 'xx', 'yy', 'zz', 'xxx', 'yyy', 'zzz', 'xxxx', 'yyyy', 'zzzz']\n",
      "[[2], [3], [4], [3], [4], [5], [4], [5], [6]]\n",
      "[[2, 3, 4, 5], [3, 4, 5, 6], [4, 5, 6, 7], [5, 6, 7, 8]]\n",
      "[(1, 1), (2, 1), (3, 1), (1, 2), (2, 2), (3, 2), (1, 3), (2, 3), (3, 3)]\n"
     ]
    }
   ],
   "source": [
    "input1 =\"ACADGILD\"\n",
    "output1 = list(input1)\n",
    "print(output1)\n",
    "input2 = ['x', 'y', 'z']\n",
    "output2 = [(a * b) for a in input2 for b in range(1,5)]\n",
    "print(output2)\n",
    "a=0\n",
    "b=0\n",
    "output3 = [(a * b) for b in range(1,5) for a in input2]\n",
    "print(output3)\n",
    "a=0\n",
    "b=0\n",
    "input4 = [2,3,4,5,6]\n",
    "output4 = [[input4[b+a]] for a in range(0,len(input4)-2) for b in range(0,3)]\n",
    "print(output4)\n",
    "a=0\n",
    "b=0\n",
    "input5 = [2,3,4,5,6,7,8]\n",
    "output5 = [input5[a:a+4] for a in range(0,len(input5)-3)]\n",
    "print(output5)\n",
    "a=0\n",
    "b=0\n",
    "input6 = [1,2,3]\n",
    "output6 = [(b,a) for a in input6 for b in input6]\n",
    "print(output6)"
   ]
  },
  {
   "cell_type": "markdown",
   "metadata": {},
   "source": [
    "Q.4 Implement a function longestWord() that takes a list of words and returns the longest one."
   ]
  },
  {
   "cell_type": "code",
   "execution_count": 45,
   "metadata": {},
   "outputs": [
    {
     "name": "stdout",
     "output_type": "stream",
     "text": [
      "abcdefghijklmnopqr\n"
     ]
    }
   ],
   "source": [
    "def longestWord(words):\n",
    "    return max(words, key=len)\n",
    "\n",
    "\n",
    "print(longestWord(['abcdefghijklmn', 'abcdefghijklmnopqr', 'avxc', 'fsfsfsfs']))"
   ]
  },
  {
   "cell_type": "markdown",
   "metadata": {},
   "source": [
    "Q.5 Write a Python Program(with class concepts) to find the area of the triangle using the below\n",
    "formula.\n",
    "\n",
    "area = (s*(s-a)*(s-b)*(s-c)) ** 0.5\n",
    "\n",
    "Function to take the length of the sides of triangle from user should be defined in the parent\n",
    "class and function to calculate the area should be defined in subclass."
   ]
  },
  {
   "cell_type": "code",
   "execution_count": 51,
   "metadata": {},
   "outputs": [
    {
     "name": "stdout",
     "output_type": "stream",
     "text": [
      "6.0\n"
     ]
    }
   ],
   "source": [
    "import math\n",
    "\n",
    "class Triangle:\n",
    "    a=0\n",
    "    b=0\n",
    "    c=0\n",
    "    s=0\n",
    "    \n",
    "    def __init__(self, a, b, c):\n",
    "        self.a = a\n",
    "        self.b = b\n",
    "        self.c = c\n",
    "        self.s = (a+b+c)/2\n",
    "        \n",
    "    def area(self):\n",
    "        return math.sqrt(self.s*(self.s-self.a)*(self.s-self.b)*(self.s-self.c))\n",
    "    \n",
    "triangle = Triangle(3,4,5)\n",
    "print(triangle.area())        "
   ]
  },
  {
   "cell_type": "markdown",
   "metadata": {},
   "source": [
    "Q.6 Write a function filter_long_words() that takes a list of words and an integer n and returns the list\n",
    "of words that are longer than n."
   ]
  },
  {
   "cell_type": "code",
   "execution_count": 58,
   "metadata": {},
   "outputs": [
    {
     "name": "stdout",
     "output_type": "stream",
     "text": [
      "['abcdefghijklmn', 'abcdefghijklmnopqr', 'fsfsfsfs']\n"
     ]
    }
   ],
   "source": [
    "def filter_long_words(words, n):\n",
    "    return list(filter(lambda x: (len(x) )>n , words))\n",
    "    \n",
    "print(filter_long_words(['abcdefghijklmn', 'abcdefghijklmnopqr', 'avxc', 'a','fsfsfsfs',''],7)) "
   ]
  },
  {
   "cell_type": "markdown",
   "metadata": {},
   "source": [
    "Q.7 Write a Python program using function concept that maps list of words into a list of integers\n",
    "representing the lengths of the corresponding words.\n",
    "    \n",
    "    Hint: If a list [ ab,cde,erty] is passed on to the python function output should come as [2,3,4]\n",
    "    Here 2,3 and 4 are the lengths of the words in the list."
   ]
  },
  {
   "cell_type": "code",
   "execution_count": 59,
   "metadata": {},
   "outputs": [
    {
     "name": "stdout",
     "output_type": "stream",
     "text": [
      "[2, 3, 4]\n"
     ]
    }
   ],
   "source": [
    "def len_map(words):\n",
    "    return list(map(lambda x: len(x), words))\n",
    "\n",
    "print(len_map(['ab', 'cde', 'erty']))"
   ]
  },
  {
   "cell_type": "markdown",
   "metadata": {},
   "source": [
    "Q.8 Write a Python function which takes a character (i.e. a string of length 1) and returns True if it is\n",
    "a vowel, False otherwise."
   ]
  },
  {
   "cell_type": "code",
   "execution_count": 62,
   "metadata": {},
   "outputs": [
    {
     "name": "stdout",
     "output_type": "stream",
     "text": [
      "True\n",
      "False\n"
     ]
    }
   ],
   "source": [
    "def is_vowel(char):\n",
    "    return True if len(char)==1 and char in ['a','e','i','o', 'u'] else False\n",
    "\n",
    "print(is_vowel('u'))\n",
    "print(is_vowel('b'))"
   ]
  },
  {
   "cell_type": "markdown",
   "metadata": {},
   "source": [
    "## Great job!"
   ]
  }
 ],
 "metadata": {
  "kernelspec": {
   "display_name": "Python 3",
   "language": "python",
   "name": "python3"
  },
  "language_info": {
   "codemirror_mode": {
    "name": "ipython",
    "version": 3
   },
   "file_extension": ".py",
   "mimetype": "text/x-python",
   "name": "python",
   "nbconvert_exporter": "python",
   "pygments_lexer": "ipython3",
   "version": "3.7.4"
  }
 },
 "nbformat": 4,
 "nbformat_minor": 2
}

{
  "nbformat": 4,
  "nbformat_minor": 0,
  "metadata": {
    "kernelspec": {
      "display_name": "Python 3",
      "language": "python",
      "name": "python3"
    },
    "language_info": {
      "codemirror_mode": {
        "name": "ipython",
        "version": 3
      },
      "file_extension": ".py",
      "mimetype": "text/x-python",
      "name": "python",
      "nbconvert_exporter": "python",
      "pygments_lexer": "ipython3",
      "version": "3.7.4"
    },
    "nteract": {
      "version": "0.21.0"
    },
    "colab": {
      "name": "Assignment -1.ipynb",
      "provenance": [],
      "include_colab_link": true
    }
  },
  "cells": [
    {
      "cell_type": "markdown",
      "metadata": {
        "id": "view-in-github",
        "colab_type": "text"
      },
      "source": [
        "<a href=\"https://colab.research.google.com/github/Rupali59/iNeuron/blob/master/Assignment_1.ipynb\" target=\"_parent\"><img src=\"https://colab.research.google.com/assets/colab-badge.svg\" alt=\"Open In Colab\"/></a>"
      ]
    },
    {
      "cell_type": "markdown",
      "metadata": {
        "id": "AET2ygmZqgLp",
        "colab_type": "text"
      },
      "source": [
        "1. Write a program which will find all such numbers which are divisible by 7 but are not a multiple of 5, between 2000 and 3200 (both included). The numbers obtained should be printed in a comma-separated sequence on a single line. "
      ]
    },
    {
      "cell_type": "code",
      "metadata": {
        "id": "BCYmdxGeqgLt",
        "colab_type": "code",
        "colab": {},
        "outputId": "ff29a292-c8d8-4a1a-a980-4fc026b03e9f"
      },
      "source": [
        "valid_num=[]\n",
        "for i in range(2000,3201):\n",
        "    if(i%5!=0 and i%7==0):\n",
        "        valid_num.append(i)\n",
        "print(*valid_num, sep = \", \")\n",
        "        "
      ],
      "execution_count": 0,
      "outputs": [
        {
          "output_type": "stream",
          "text": [
            "2002, 2009, 2016, 2023, 2037, 2044, 2051, 2058, 2072, 2079, 2086, 2093, 2107, 2114, 2121, 2128, 2142, 2149, 2156, 2163, 2177, 2184, 2191, 2198, 2212, 2219, 2226, 2233, 2247, 2254, 2261, 2268, 2282, 2289, 2296, 2303, 2317, 2324, 2331, 2338, 2352, 2359, 2366, 2373, 2387, 2394, 2401, 2408, 2422, 2429, 2436, 2443, 2457, 2464, 2471, 2478, 2492, 2499, 2506, 2513, 2527, 2534, 2541, 2548, 2562, 2569, 2576, 2583, 2597, 2604, 2611, 2618, 2632, 2639, 2646, 2653, 2667, 2674, 2681, 2688, 2702, 2709, 2716, 2723, 2737, 2744, 2751, 2758, 2772, 2779, 2786, 2793, 2807, 2814, 2821, 2828, 2842, 2849, 2856, 2863, 2877, 2884, 2891, 2898, 2912, 2919, 2926, 2933, 2947, 2954, 2961, 2968, 2982, 2989, 2996, 3003, 3017, 3024, 3031, 3038, 3052, 3059, 3066, 3073, 3087, 3094, 3101, 3108, 3122, 3129, 3136, 3143, 3157, 3164, 3171, 3178, 3192, 3199\n"
          ],
          "name": "stdout"
        }
      ]
    },
    {
      "cell_type": "markdown",
      "metadata": {
        "id": "4Qye-pmFqgLz",
        "colab_type": "text"
      },
      "source": [
        "2. Write a Python program to accept the user's first and last name and then getting them printed in the the reverse order with a space between first name and last name"
      ]
    },
    {
      "cell_type": "code",
      "metadata": {
        "id": "OlWAnC24qgL0",
        "colab_type": "code",
        "colab": {},
        "outputId": "7b2df29a-efb8-4b11-9b6c-30481719bd8d"
      },
      "source": [
        "first_name = input(\"Enter your first name: \").strip()\n",
        "last_name = input(\"Enter your last name: \").strip()\n",
        "print(first_name[::-1]+\" \"+last_name[::-1])"
      ],
      "execution_count": 0,
      "outputs": [
        {
          "output_type": "stream",
          "text": [
            "Enter your first name:  Rupali\n",
            "Enter your last name:  Bhatnagar\n"
          ],
          "name": "stdin"
        },
        {
          "output_type": "stream",
          "text": [
            "ilapuR ragantahB\n"
          ],
          "name": "stdout"
        }
      ]
    },
    {
      "cell_type": "markdown",
      "metadata": {
        "id": "koardVdCqgL4",
        "colab_type": "text"
      },
      "source": [
        "3.Write a Python program to find the volume of a sphere with diameter 12 cm.  \n",
        " \n",
        "Formula: V=4/3 * π * r 3 "
      ]
    },
    {
      "cell_type": "code",
      "metadata": {
        "id": "MZsdM3LYqgL5",
        "colab_type": "code",
        "colab": {
          "base_uri": "https://localhost:8080/",
          "height": 34
        },
        "outputId": "61a29e1a-76cf-46a0-974e-b5e45c07caba"
      },
      "source": [
        "import math;\n",
        "radius = 6\n",
        "print(str((4*math.pi* math.pow(radius,3))/3)+\"cm^3\")"
      ],
      "execution_count": 7,
      "outputs": [
        {
          "output_type": "stream",
          "text": [
            "904.7786842338604cm^3\n"
          ],
          "name": "stdout"
        }
      ]
    },
    {
      "cell_type": "markdown",
      "metadata": {
        "id": "t3BlTekPqgL_",
        "colab_type": "text"
      },
      "source": [
        "4.Write a program which accepts a sequence of comma-separated numbers from console and generate a list. "
      ]
    },
    {
      "cell_type": "code",
      "metadata": {
        "id": "YQUDhg5tqgMB",
        "colab_type": "code",
        "colab": {
          "base_uri": "https://localhost:8080/",
          "height": 51
        },
        "outputId": "af1f630f-08c2-4524-e6f1-166739f27d20"
      },
      "source": [
        "print([int(x.strip()) for x in input(\"Enter comma-separated list: \").split(\",\")])"
      ],
      "execution_count": 10,
      "outputs": [
        {
          "output_type": "stream",
          "text": [
            "Enter comma-separated list: 1,2 ,3,  4\n",
            "[1, 2, 3, 4]\n"
          ],
          "name": "stdout"
        }
      ]
    },
    {
      "cell_type": "markdown",
      "metadata": {
        "id": "jeoiOP4-qgMF",
        "colab_type": "raw"
      },
      "source": [
        "5. Create the below pattern using nested for loop in Python. \n",
        " \n",
        " \n",
        "*  \n",
        "* *  \n",
        "* * * \n",
        "* * * *  \n",
        "* * * * *  \n",
        "* * * *  \n",
        "* * *  \n",
        "* *  \n",
        "* \n",
        " \n",
        " "
      ]
    },
    {
      "cell_type": "markdown",
      "metadata": {
        "id": "0vAdxT1mqgMK",
        "colab_type": "text"
      },
      "source": [
        "6. Write a Python program to reverse a word after accepting the input from the user. \n",
        " \n",
        "Sample Output: \n",
        " \n",
        "Input word: iNeuron \n",
        " \n",
        "Output: norueNi"
      ]
    },
    {
      "cell_type": "code",
      "metadata": {
        "id": "kIjBTGw4qgML",
        "colab_type": "code",
        "colab": {
          "base_uri": "https://localhost:8080/",
          "height": 51
        },
        "outputId": "5208a8d8-e9de-4314-c500-0eab089268ab"
      },
      "source": [
        "print(\"Output: \"+input(\"Input word: \")[::-1])"
      ],
      "execution_count": 11,
      "outputs": [
        {
          "output_type": "stream",
          "text": [
            "Input word: iNeuron\n",
            "Output: norueNi\n"
          ],
          "name": "stdout"
        }
      ]
    },
    {
      "cell_type": "markdown",
      "metadata": {
        "id": "SVCs1DA7qgMP",
        "colab_type": "text"
      },
      "source": [
        "7. Write a Python Program to print the given string in the format specified in the ​sample output. \n",
        " WE, THE PEOPLE OF INDIA, having solemnly resolved to constitute India into a SOVEREIGN, SOCIALIST, SECULAR, DEMOCRATIC REPUBLIC and to secure to all its citizens \n",
        " \n",
        "Sample Output: \n",
        " \n",
        "WE, THE PEOPLE OF INDIA,   having solemnly resolved to constitute India into a SOVEREIGN, !  SOCIALIST, SECULAR, DEMOCRATIC REPUBLIC    and to secure to all its citizens "
      ]
    },
    {
      "cell_type": "code",
      "metadata": {
        "id": "7sAC-Vt9qgMR",
        "colab_type": "code",
        "colab": {
          "base_uri": "https://localhost:8080/",
          "height": 34
        },
        "outputId": "255eb070-694e-41b1-fcfe-3c11b2c0659b"
      },
      "source": [
        "input = \"WE, THE PEOPLE OF INDIA, having solemnly resolved to constitute India into a SOVEREIGN, SOCIALIST, SECULAR, DEMOCRATIC REPUBLIC and to secure to all its citizens\"; \n",
        "print(input[:88]+\"! \"+input[88:])"
      ],
      "execution_count": 14,
      "outputs": [
        {
          "output_type": "stream",
          "text": [
            "WE, THE PEOPLE OF INDIA, having solemnly resolved to constitute India into a SOVEREIGN, ! SOCIALIST, SECULAR, DEMOCRATIC REPUBLIC and to secure to all its citizens\n"
          ],
          "name": "stdout"
        }
      ]
    },
    {
      "cell_type": "markdown",
      "metadata": {
        "id": "y1SB5CwFqgMU",
        "colab_type": "text"
      },
      "source": [
        "Note : - NOTE:​ ​The​ ​solution​ ​shared​ ​through​ ​Github​ ​should​ ​contain​ ​the​ ​source code​ ​used​ ​ and​  ​the​ ​output"
      ]
    }
  ]
}
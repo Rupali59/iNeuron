{
 "cells": [
  {
   "cell_type": "markdown",
   "metadata": {},
   "source": [
    "# Assignments"
   ]
  },
  {
   "cell_type": "markdown",
   "metadata": {},
   "source": [
    "Q1. Write the Python function to get a string made of 4 copies of the last\n",
    "two characters of the specified string (length must be at least 2).\n",
    "\n",
    "    Sample function and result :\n",
    "    insert-end ('Python') -> abababab\n",
    "    insert-end('Exercises') -> jkjkjkjk"
   ]
  },
  {
   "cell_type": "code",
   "execution_count": 8,
   "metadata": {},
   "outputs": [
    {
     "name": "stdout",
     "output_type": "stream",
     "text": [
      "onononon\n",
      "eseseses\n"
     ]
    }
   ],
   "source": [
    "def insert_end(word):\n",
    "    return word[-2:]*4\n",
    "print(insert_end('Python'))\n",
    "print(insert_end('Exercises'))"
   ]
  },
  {
   "cell_type": "markdown",
   "metadata": {},
   "source": [
    "Q2. Write the python function to get a string made of its first three\n",
    "characters of a specified string. If the length of the string is less than 3\n",
    "then return the original string.\n",
    "    \n",
    "    Sample function and result :\n",
    "    first-three('ipy') -> ipy\n",
    "    first-three('python') -> pyt"
   ]
  },
  {
   "cell_type": "code",
   "execution_count": 9,
   "metadata": {},
   "outputs": [
    {
     "name": "stdout",
     "output_type": "stream",
     "text": [
      "ipy\n",
      "pyt\n"
     ]
    }
   ],
   "source": [
    "def first_three(word):\n",
    "    return word[:3] if len(word)>3 else word\n",
    "\n",
    "print(first_three('ipy'))\n",
    "print(first_three('python'))"
   ]
  },
  {
   "cell_type": "markdown",
   "metadata": {},
   "source": [
    "Q3. Write the Python program to find smallest window that contains all\n",
    "characters of the given string?\n",
    "\n",
    "    Original Strings:\n",
    "    asdaewsqgtwwsa\n",
    "    Smallest window that contains all characters of the said string:\n",
    "    Daewsqgt"
   ]
  },
  {
   "cell_type": "code",
   "execution_count": 10,
   "metadata": {},
   "outputs": [
    {
     "name": "stdout",
     "output_type": "stream",
     "text": [
      "Original String: asdaewsqgtwwsa\n",
      "Smallest window that contains all characters of the said string: daewsqgt\n"
     ]
    }
   ],
   "source": [
    "string1= input(\"Original String: \").strip()\n",
    "string2= list(set(string1))\n",
    "output = \"None\"\n",
    "\n",
    "if len(string2)<=len(string1):\n",
    "    no_of_chars = 256\n",
    "    string1_hash = [0] * no_of_chars\n",
    "    string2_hash = [0] * no_of_chars \n",
    "     \n",
    "    for i in range(0, len(string2)):  \n",
    "        string2_hash[ord(string2[i])] += 1\n",
    "        \n",
    "    count = 0 \n",
    "    start, start_idx, min_len = 0, -1, float('inf')\n",
    "    \n",
    "    for j in range(0, len(string1)):\n",
    "        j_index = ord(string1[j])\n",
    "        string1_hash[j_index] += 1\n",
    "        \n",
    "        if (string2_hash[j_index] != 0 and string1_hash[j_index] <= string2_hash[j_index]):  \n",
    "            count += 1\n",
    "            \n",
    "        if(count == len(string2)):\n",
    "            start_index = ord(string1[start])\n",
    "            while (string1_hash[start_index] >  string2_hash[start_index] or string2_hash[start_index] == 0):\n",
    "                if (string1_hash[start_index] >  string2_hash[start_index]):  \n",
    "                    string1_hash[start_index] -= 1\n",
    "                start += 1\n",
    "                start_index = ord(string1[start])\n",
    "            \n",
    "            len_window = j - start + 1\n",
    "            if min_len > len_window:                \n",
    "                min_len = len_window  \n",
    "                start_idx = start\n",
    "        \n",
    "    if start_idx != -1:\n",
    "        output = string1[start_idx : start_idx + min_len]\n",
    "print('Smallest window that contains all characters of the said string:', output)"
   ]
  },
  {
   "cell_type": "markdown",
   "metadata": {},
   "source": [
    "Q4. Write the Python program to count number of substrings from a\n",
    "given string of lowercase alphabets with exactly k distinct (given)\n",
    "characters?\n",
    "\n",
    "    Input a string (lowercase alphabets): wolf\n",
    "    Input k: 4\n",
    "    Number of substrings with exactly 4 distinct characters: 1"
   ]
  },
  {
   "cell_type": "code",
   "execution_count": 11,
   "metadata": {},
   "outputs": [
    {
     "name": "stdout",
     "output_type": "stream",
     "text": [
      "Input a string (lowercase alphabets):wolf\n",
      "Input k: 4\n",
      "Number of substrings with exactly 4 distinct characters: 1\n"
     ]
    }
   ],
   "source": [
    "string = input(\"Input a string (lowercase alphabets):\").strip()\n",
    "k = int(input(\"Input k: \").strip())\n",
    "n = len(string)\n",
    "result = 0\n",
    "count_char = [0] * 27\n",
    "\n",
    "for i in range(0, n):\n",
    "    dist_count = 0\n",
    "    count_char = [0] * 27\n",
    "    for j in range(i, n):\n",
    "        if(count_char[ord(string[j]) - 97] == 0):\n",
    "            dist_count += 1\n",
    "        count_char[ord(string[j]) -97] += 1\n",
    "        if(dist_count == k):\n",
    "            result += 1\n",
    "        if (dist_count > k):\n",
    "            break\n",
    "\n",
    "print(\"Number of substrings with exactly \"+str(k)+\" distinct characters: \"+str(result))"
   ]
  },
  {
   "cell_type": "markdown",
   "metadata": {},
   "source": [
    "Q5. Write the Python program to count number of non-empty\n",
    "substrings of the given string?\n",
    "\n",
    "    Input a string: w3resource\n",
    "    Number of substrings:\n",
    "    55"
   ]
  },
  {
   "cell_type": "code",
   "execution_count": 13,
   "metadata": {},
   "outputs": [
    {
     "name": "stdout",
     "output_type": "stream",
     "text": [
      "Input a string: Input a string: \n",
      "Number of substrings:120\n"
     ]
    }
   ],
   "source": [
    "def non_empty_substring(string):\n",
    "    count = len(string)*(len(string)+1)*0.5\n",
    "    return int(count)\n",
    "\n",
    "string = input(\"Input a string: \").strip()\n",
    "print(\"Number of substrings:\"+ str(non_empty_substring(string)))"
   ]
  },
  {
   "cell_type": "markdown",
   "metadata": {},
   "source": [
    "Q6. Write the Python program to count the number of strings where the\n",
    "string length is 2 or more, and first and last character are same\n",
    "from a given list of strings.\n",
    "\n",
    "    Sample List : ['abc', 'xyz', 'wxw', '1331']\n",
    "    Expected Result: 2"
   ]
  },
  {
   "cell_type": "code",
   "execution_count": 25,
   "metadata": {},
   "outputs": [
    {
     "name": "stdout",
     "output_type": "stream",
     "text": [
      "List separated by commas: abc, xyz, wxw, 1331\n",
      "['abc', 'xyz', 'wxw', '1331']\n",
      "Result: 2\n"
     ]
    }
   ],
   "source": [
    "def matcher(list_of_string):\n",
    "    print(list_of_string)\n",
    "    return len([x for x in list_of_string if len(x)>1 and x[0]==x[-1]])\n",
    "\n",
    "list_of_string = input(\"List separated by commas: \").split(', ')\n",
    "print(\"Result: \"+str(matcher(list_of_string)))"
   ]
  },
  {
   "cell_type": "markdown",
   "metadata": {},
   "source": [
    "Q7. Write the Python program to get a list, sorted in increasing order by\n",
    "the last element in each tuple from the given list of non-empty\n",
    "tuples?\n",
    "\n",
    "    Sample List - [ (2, 5), (1, 2), (4, 4), (2, 3), (2, 1) ]\n",
    "    Expected Result - [ (2, 1), (1, 2), (2, 3), (4, 4), (2, 5) ]"
   ]
  },
  {
   "cell_type": "code",
   "execution_count": 26,
   "metadata": {},
   "outputs": [
    {
     "name": "stdout",
     "output_type": "stream",
     "text": [
      "[(2, 1), (1, 2), (2, 3), (4, 4), (2, 5)]\n"
     ]
    }
   ],
   "source": [
    "def sort_by_last_in_tuple(tuple_list):\n",
    "    tuple_list.sort(key = lambda x: x[-1])  \n",
    "    return tuple_list  \n",
    "    \n",
    "my_list = [ (2, 5), (1, 2), (4, 4), (2, 3), (2, 1) ]\n",
    "print(sort_by_last_in_tuple(my_list))"
   ]
  },
  {
   "cell_type": "markdown",
   "metadata": {},
   "source": [
    "Q8. Write the Python program to remove duplicates from a list?"
   ]
  },
  {
   "cell_type": "code",
   "execution_count": 28,
   "metadata": {},
   "outputs": [
    {
     "name": "stdout",
     "output_type": "stream",
     "text": [
      "Input a list: a, b, c, 1, 2, 3, 4, 1, 2, 3, b, c, d\n",
      "['c', '3', 'd', '2', 'a', '1', '4', 'b']\n"
     ]
    }
   ],
   "source": [
    "def duplicate_remover(my_list):\n",
    "    return list(set(my_list))\n",
    "    \n",
    "my_list = input(\"Input a list: \").strip().split(', ')    \n",
    "print(duplicate_remover(my_list))"
   ]
  },
  {
   "cell_type": "markdown",
   "metadata": {},
   "source": [
    "Q9. Write the Python program to find the list of words that are longer\n",
    "than n from a given list of words?"
   ]
  },
  {
   "cell_type": "code",
   "execution_count": 32,
   "metadata": {},
   "outputs": [
    {
     "name": "stdout",
     "output_type": "stream",
     "text": [
      "Input a list of words: word, words, men, women, list\n",
      "n = 4\n",
      "['words', 'women']\n"
     ]
    }
   ],
   "source": [
    "my_list = input(\"Input a list of words: \").strip().split(', ')    \n",
    "n = int(input(\"n = \"))\n",
    "print(list(filter(lambda x: len(x)>n ,my_list)))"
   ]
  },
  {
   "cell_type": "markdown",
   "metadata": {},
   "source": [
    "Q10. Write the Python program to print a specified list after removing the\n",
    "0th, 4th, and 5th elements?\n",
    "    \n",
    "    Sample List - ['Red', 'Green', 'White', 'Black', 'Pink', 'Yellow']\n",
    "    Expected Output - ['Green', 'White', 'Black']"
   ]
  },
  {
   "cell_type": "code",
   "execution_count": 33,
   "metadata": {},
   "outputs": [
    {
     "name": "stdout",
     "output_type": "stream",
     "text": [
      "Input a list of words: 'Red', 'Green', 'White', 'Black', 'Pink', 'Yellow'\n",
      "[\"'Green'\", \"'White'\", \"'Black'\"]\n"
     ]
    }
   ],
   "source": [
    "words = input(\"Input a list of words: \").strip().split(', ')\n",
    "del(words[0])\n",
    "del(words[3])\n",
    "del(words[3])\n",
    "print(words)"
   ]
  },
  {
   "cell_type": "markdown",
   "metadata": {},
   "source": [
    "Q11. Write the Python program to generate all permutations of a list in\n",
    "Python?"
   ]
  },
  {
   "cell_type": "code",
   "execution_count": 36,
   "metadata": {},
   "outputs": [
    {
     "name": "stdout",
     "output_type": "stream",
     "text": [
      "List of words: a, bc, def\n",
      "[('a', 'bc', 'def'), ('a', 'def', 'bc'), ('bc', 'a', 'def'), ('bc', 'def', 'a'), ('def', 'a', 'bc'), ('def', 'bc', 'a')]\n"
     ]
    }
   ],
   "source": [
    "from itertools import permutations \n",
    "\n",
    "words = input(\"List of words: \").split(\", \")\n",
    "print(list(permutations(words)))"
   ]
  },
  {
   "cell_type": "markdown",
   "metadata": {},
   "source": [
    "Q12. Write the Python program to convert a pair of values into a sorted\n",
    "unique array?\n",
    " \n",
    "    Original List- [ (1, 2), (3, 4), (1, 2), (5, 6), (7, 8), (1, 2), (3, 4), (3, 4), (7, 8), (9, 10) ]\n",
    "    Sorted Unique Data- [ 1, 2, 3, 4, 5, 6, 7, 8, 9, 10 ] \n"
   ]
  },
  {
   "cell_type": "code",
   "execution_count": 41,
   "metadata": {},
   "outputs": [
    {
     "name": "stdout",
     "output_type": "stream",
     "text": [
      "Original List- \n",
      "[(1, 2), (3, 4), (1, 2), (5, 6), (7, 8), (1, 2), (3, 4), (3, 4), (7, 8), (9, 10)]\n",
      "Sorted unique data\n",
      "[1, 2, 3, 4, 5, 6, 7, 8, 9, 10]\n"
     ]
    }
   ],
   "source": [
    "import itertools \n",
    "tuple_list = [ (1, 2), (3, 4), (1, 2), (5, 6), (7, 8), (1, 2), (3, 4), (3, 4), (7, 8), (9, 10) ]\n",
    "print(\"Original List- \")\n",
    "print(tuple_list)\n",
    "print(\"Sorted unique data\" + ''.join(map(str, L)))\n",
    "print(list(set(itertools.chain(*tuple_list))))"
   ]
  },
  {
   "cell_type": "markdown",
   "metadata": {},
   "source": [
    "## Great job!"
   ]
  }
 ],
 "metadata": {
  "kernelspec": {
   "display_name": "Python 3",
   "language": "python",
   "name": "python3"
  },
  "language_info": {
   "codemirror_mode": {
    "name": "ipython",
    "version": 3
   },
   "file_extension": ".py",
   "mimetype": "text/x-python",
   "name": "python",
   "nbconvert_exporter": "python",
   "pygments_lexer": "ipython3",
   "version": "3.7.4"
  }
 },
 "nbformat": 4,
 "nbformat_minor": 2
}
